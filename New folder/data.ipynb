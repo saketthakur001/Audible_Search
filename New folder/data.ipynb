{
 "cells": [
  {
   "cell_type": "code",
   "execution_count": 33,
   "metadata": {},
   "outputs": [
    {
     "name": "stdout",
     "output_type": "stream",
     "text": [
      "                                user_id utm_source           day  \\\n",
      "0  008b7c6c-7272-471e-b90e-930d548bd8d7     google  6 - Saturday   \n",
      "1  009abb94-5e14-4b6c-bb1c-4f4df7aa7557   facebook    7 - Sunday   \n",
      "2  00f5d532-ed58-4570-b6d2-768df5f41aed    twitter   2 - Tuesday   \n",
      "3  011adc64-0f44-4fd9-a0bb-f1506d2ad439     google   2 - Tuesday   \n",
      "4  012137e6-7ae7-4649-af68-205b4702169c   facebook    7 - Sunday   \n",
      "\n",
      "  ad_click_timestamp experimental_group  is_click  \n",
      "0               7:18                  A      True  \n",
      "1                NaN                  B     False  \n",
      "2                NaN                  A     False  \n",
      "3                NaN                  B     False  \n",
      "4                NaN                  B     False  \n",
      "is_click utm_source  False  True  percent_clicked\n",
      "0             email    175    80         0.313725\n",
      "1          facebook    324   180         0.357143\n",
      "2            google    441   239         0.351471\n",
      "3           twitter    149    66         0.306977\n",
      "is_click experimental_group  False  True  percent_clicked\n",
      "0                         A    517   310         0.374849\n",
      "1                         B    572   255         0.308343\n",
      "is_click            day  False  True  percent_clicked\n",
      "0            1 - Monday     70    43         0.380531\n",
      "1           2 - Tuesday     76    43         0.361345\n",
      "2         3 - Wednesday     86    38         0.306452\n",
      "3          4 - Thursday     69    47         0.405172\n",
      "4            5 - Friday     77    51         0.398438\n",
      "5          6 - Saturday     73    45         0.381356\n",
      "6            7 - Sunday     66    43         0.394495\n",
      "is_click            day  False  True  percent_clicked\n",
      "0            1 - Monday     81    32         0.283186\n",
      "1           2 - Tuesday     74    45         0.378151\n",
      "2         3 - Wednesday     89    35         0.282258\n",
      "3          4 - Thursday     87    29         0.250000\n",
      "4            5 - Friday     90    38         0.296875\n",
      "5          6 - Saturday     76    42         0.355932\n",
      "6            7 - Sunday     75    34         0.311927\n",
      "is_click            day  False  True  percent_clicked\n",
      "0            1 - Monday     70    43         0.380531\n",
      "1           2 - Tuesday     76    43         0.361345\n",
      "2         3 - Wednesday     86    38         0.306452\n",
      "3          4 - Thursday     69    47         0.405172\n",
      "4            5 - Friday     77    51         0.398438\n",
      "5          6 - Saturday     73    45         0.381356\n",
      "6            7 - Sunday     66    43         0.394495\n",
      "is_click            day  False  True  percent_clicked\n",
      "0            1 - Monday     81    32         0.283186\n",
      "1           2 - Tuesday     74    45         0.378151\n",
      "2         3 - Wednesday     89    35         0.282258\n",
      "3          4 - Thursday     87    29         0.250000\n",
      "4            5 - Friday     90    38         0.296875\n",
      "5          6 - Saturday     76    42         0.355932\n",
      "6            7 - Sunday     75    34         0.311927\n"
     ]
    }
   ],
   "source": []
  },
  {
   "cell_type": "code",
   "execution_count": 15,
   "metadata": {},
   "outputs": [
    {
     "name": "stdout",
     "output_type": "stream",
     "text": [
      "hey\n"
     ]
    }
   ],
   "source": [
    "print('hey')"
   ]
  }
 ],
 "metadata": {
  "kernelspec": {
   "display_name": "base",
   "language": "python",
   "name": "python3"
  },
  "language_info": {
   "codemirror_mode": {
    "name": "ipython",
    "version": 3
   },
   "file_extension": ".py",
   "mimetype": "text/x-python",
   "name": "python",
   "nbconvert_exporter": "python",
   "pygments_lexer": "ipython3",
   "version": "3.9.12"
  },
  "orig_nbformat": 4,
  "vscode": {
   "interpreter": {
    "hash": "e917f6a1a291acb327dc834d38d3b96f6a78dbe9ee0354bbc0da907f554530c7"
   }
  }
 },
 "nbformat": 4,
 "nbformat_minor": 2
}
